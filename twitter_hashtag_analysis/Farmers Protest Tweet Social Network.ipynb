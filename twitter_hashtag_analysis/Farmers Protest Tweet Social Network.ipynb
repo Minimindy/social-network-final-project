{
 "cells": [
  {
   "cell_type": "markdown",
   "id": "d8cc9f88",
   "metadata": {},
   "source": [
    "# Social Network\n",
    "\n",
    "node: 用戶 (為了簡化整個網路 edge>2 才繪出)\n",
    "edge: 回覆貼文or引用貼文的有向邊"
   ]
  },
  {
   "cell_type": "code",
   "execution_count": 6,
   "id": "4c918121",
   "metadata": {},
   "outputs": [
    {
     "name": "stderr",
     "output_type": "stream",
     "text": [
      "Adding nodes: 100%|█████████████████████████████████████████████████████████| 235660/235660 [00:08<00:00, 28077.89it/s]\n",
      "Adding edges: 100%|███████████████████████████████████████████████████████| 2524900/2524900 [01:43<00:00, 24374.59it/s]\n"
     ]
    }
   ],
   "source": [
    "import pandas as pd\n",
    "import networkx as nx\n",
    "import matplotlib.pyplot as plt\n",
    "from tqdm import tqdm\n",
    "\n",
    "# 讀取數據\n",
    "user_df = pd.read_csv('users.csv')\n",
    "tweet_df = pd.read_csv('tweets.csv')\n",
    "\n",
    "# 通過 userId 把兩個DataSet合併\n",
    "merged_df = pd.merge(tweet_df, user_df, how=\"inner\", on=\"userId\")\n",
    "\n",
    "# 建立一個空的有向圖\n",
    "G = nx.DiGraph()\n",
    "\n",
    "# 添加節點（這裡假設每個用戶是一個節點）\n",
    "for index, row in tqdm(user_df.iterrows(), total=user_df.shape[0], desc=\"Adding nodes\"):\n",
    "    G.add_node(row['username'])\n",
    "\n",
    "# 添加邊（這裡假設每個回覆或引用是一個邊）\n",
    "# 這裡假設我們有一個指向用戶的回覆或引用的數據，例如 `mentionedUsers`\n",
    "for index, row in tqdm(merged_df.iterrows(), total=merged_df.shape[0], desc=\"Adding edges\"):\n",
    "    if pd.notnull(row['mentionedUsers']):\n",
    "        # 應該解析 `mentionedUsers` 並添加所有相應的邊\n",
    "        # 這裡只是一個範例，可能需要根據 `mentionedUsers` 的實際結構進行調整\n",
    "        for mentioned_user in row['mentionedUsers'].split(';'):\n",
    "            G.add_edge(row['username'], mentioned_user)\n"
   ]
  },
  {
   "cell_type": "code",
   "execution_count": 8,
   "id": "c8be2f3a",
   "metadata": {},
   "outputs": [],
   "source": [
    "# 簡化網絡 大於2的才畫\n",
    "degree = dict(G.degree())\n",
    "to_keep = [n for n in degree if degree[n] > 2]  \n",
    "G2 = G.subgraph(to_keep)\n",
    "\n",
    "# 使用 Fruchterman-Reingold force-directed algorithm\n",
    "#pos = nx.spring_layout(G2, seed=42)  \n",
    "#plt.figure(figsize=(10, 10))  \n",
    "\n",
    "# 分別畫node,edge\n",
    "#nx.draw_networkx_nodes(G2, pos, node_size=20)\n",
    "#nx.draw_networkx_edges(G2, pos, alpha=0.1)\n",
    "\n",
    "#plt.axis(\"off\")\n",
    "#plt.show()"
   ]
  },
  {
   "cell_type": "markdown",
   "id": "24a2580c",
   "metadata": {},
   "source": [
    "# social community\n",
    "\n",
    "用louvain算法"
   ]
  },
  {
   "cell_type": "code",
   "execution_count": null,
   "id": "8485f1ff",
   "metadata": {},
   "outputs": [],
   "source": [
    "import community as community_louvain\n",
    "\n",
    "# 將有向圖轉化為無向圖\n",
    "G2_un = G2.to_undirected()\n",
    "\n",
    "# 使用Louvain方法找出最佳劃分\n",
    "partition = community_louvain.best_partition(G2_un)\n",
    "\n",
    "pos = nx.spring_layout(G)\n",
    "cmap = cm.get_cmap('viridis', max(partition.values()) + 1)\n",
    "nx.draw_networkx_nodes(G, pos, partition.keys(), node_size=100, cmap=cmap, node_color=list(partition.values()))\n",
    "nx.draw_networkx_edges(G, pos, alpha=0.5)\n",
    "plt.show()"
   ]
  },
  {
   "cell_type": "markdown",
   "id": "3f426d7f",
   "metadata": {},
   "source": [
    "# Degree Centrality"
   ]
  },
  {
   "cell_type": "code",
   "execution_count": null,
   "id": "fdc3f22c",
   "metadata": {},
   "outputs": [],
   "source": [
    "degree_centrality = nx.degree_centrality(G)\n",
    "\n",
    "plt.figure()\n",
    "plt.hist(list(degree_centrality.values()))\n",
    "plt.title('Degree Centrality')\n",
    "plt.show()"
   ]
  },
  {
   "cell_type": "code",
   "execution_count": null,
   "id": "14615002",
   "metadata": {},
   "outputs": [],
   "source": []
  }
 ],
 "metadata": {
  "kernelspec": {
   "display_name": "Python 3 (ipykernel)",
   "language": "python",
   "name": "python3"
  },
  "language_info": {
   "codemirror_mode": {
    "name": "ipython",
    "version": 3
   },
   "file_extension": ".py",
   "mimetype": "text/x-python",
   "name": "python",
   "nbconvert_exporter": "python",
   "pygments_lexer": "ipython3",
   "version": "3.9.13"
  }
 },
 "nbformat": 4,
 "nbformat_minor": 5
}
